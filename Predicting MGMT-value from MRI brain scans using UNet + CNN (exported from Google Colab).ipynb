{
 "cells": [
  {
   "cell_type": "code",
   "execution_count": null,
   "metadata": {
    "id": "gCQ2D3ACmtHh"
   },
   "outputs": [],
   "source": [
    "! pip uninstall -y kaggle\n",
    "! pip install --upgrade pip\n",
    "! pip install kaggle==1.5.12"
   ]
  },
  {
   "cell_type": "code",
   "execution_count": null,
   "metadata": {
    "colab": {
     "base_uri": "https://localhost:8080/",
     "height": 90,
     "resources": {
      "http://localhost:8080/nbextensions/google.colab/files.js": {
       "data": "Ly8gQ29weXJpZ2h0IDIwMTcgR29vZ2xlIExMQwovLwovLyBMaWNlbnNlZCB1bmRlciB0aGUgQXBhY2hlIExpY2Vuc2UsIFZlcnNpb24gMi4wICh0aGUgIkxpY2Vuc2UiKTsKLy8geW91IG1heSBub3QgdXNlIHRoaXMgZmlsZSBleGNlcHQgaW4gY29tcGxpYW5jZSB3aXRoIHRoZSBMaWNlbnNlLgovLyBZb3UgbWF5IG9idGFpbiBhIGNvcHkgb2YgdGhlIExpY2Vuc2UgYXQKLy8KLy8gICAgICBodHRwOi8vd3d3LmFwYWNoZS5vcmcvbGljZW5zZXMvTElDRU5TRS0yLjAKLy8KLy8gVW5sZXNzIHJlcXVpcmVkIGJ5IGFwcGxpY2FibGUgbGF3IG9yIGFncmVlZCB0byBpbiB3cml0aW5nLCBzb2Z0d2FyZQovLyBkaXN0cmlidXRlZCB1bmRlciB0aGUgTGljZW5zZSBpcyBkaXN0cmlidXRlZCBvbiBhbiAiQVMgSVMiIEJBU0lTLAovLyBXSVRIT1VUIFdBUlJBTlRJRVMgT1IgQ09ORElUSU9OUyBPRiBBTlkgS0lORCwgZWl0aGVyIGV4cHJlc3Mgb3IgaW1wbGllZC4KLy8gU2VlIHRoZSBMaWNlbnNlIGZvciB0aGUgc3BlY2lmaWMgbGFuZ3VhZ2UgZ292ZXJuaW5nIHBlcm1pc3Npb25zIGFuZAovLyBsaW1pdGF0aW9ucyB1bmRlciB0aGUgTGljZW5zZS4KCi8qKgogKiBAZmlsZW92ZXJ2aWV3IEhlbHBlcnMgZm9yIGdvb2dsZS5jb2xhYiBQeXRob24gbW9kdWxlLgogKi8KKGZ1bmN0aW9uKHNjb3BlKSB7CmZ1bmN0aW9uIHNwYW4odGV4dCwgc3R5bGVBdHRyaWJ1dGVzID0ge30pIHsKICBjb25zdCBlbGVtZW50ID0gZG9jdW1lbnQuY3JlYXRlRWxlbWVudCgnc3BhbicpOwogIGVsZW1lbnQudGV4dENvbnRlbnQgPSB0ZXh0OwogIGZvciAoY29uc3Qga2V5IG9mIE9iamVjdC5rZXlzKHN0eWxlQXR0cmlidXRlcykpIHsKICAgIGVsZW1lbnQuc3R5bGVba2V5XSA9IHN0eWxlQXR0cmlidXRlc1trZXldOwogIH0KICByZXR1cm4gZWxlbWVudDsKfQoKLy8gTWF4IG51bWJlciBvZiBieXRlcyB3aGljaCB3aWxsIGJlIHVwbG9hZGVkIGF0IGEgdGltZS4KY29uc3QgTUFYX1BBWUxPQURfU0laRSA9IDEwMCAqIDEwMjQ7CgpmdW5jdGlvbiBfdXBsb2FkRmlsZXMoaW5wdXRJZCwgb3V0cHV0SWQpIHsKICBjb25zdCBzdGVwcyA9IHVwbG9hZEZpbGVzU3RlcChpbnB1dElkLCBvdXRwdXRJZCk7CiAgY29uc3Qgb3V0cHV0RWxlbWVudCA9IGRvY3VtZW50LmdldEVsZW1lbnRCeUlkKG91dHB1dElkKTsKICAvLyBDYWNoZSBzdGVwcyBvbiB0aGUgb3V0cHV0RWxlbWVudCB0byBtYWtlIGl0IGF2YWlsYWJsZSBmb3IgdGhlIG5leHQgY2FsbAogIC8vIHRvIHVwbG9hZEZpbGVzQ29udGludWUgZnJvbSBQeXRob24uCiAgb3V0cHV0RWxlbWVudC5zdGVwcyA9IHN0ZXBzOwoKICByZXR1cm4gX3VwbG9hZEZpbGVzQ29udGludWUob3V0cHV0SWQpOwp9CgovLyBUaGlzIGlzIHJvdWdobHkgYW4gYXN5bmMgZ2VuZXJhdG9yIChub3Qgc3VwcG9ydGVkIGluIHRoZSBicm93c2VyIHlldCksCi8vIHdoZXJlIHRoZXJlIGFyZSBtdWx0aXBsZSBhc3luY2hyb25vdXMgc3RlcHMgYW5kIHRoZSBQeXRob24gc2lkZSBpcyBnb2luZwovLyB0byBwb2xsIGZvciBjb21wbGV0aW9uIG9mIGVhY2ggc3RlcC4KLy8gVGhpcyB1c2VzIGEgUHJvbWlzZSB0byBibG9jayB0aGUgcHl0aG9uIHNpZGUgb24gY29tcGxldGlvbiBvZiBlYWNoIHN0ZXAsCi8vIHRoZW4gcGFzc2VzIHRoZSByZXN1bHQgb2YgdGhlIHByZXZpb3VzIHN0ZXAgYXMgdGhlIGlucHV0IHRvIHRoZSBuZXh0IHN0ZXAuCmZ1bmN0aW9uIF91cGxvYWRGaWxlc0NvbnRpbnVlKG91dHB1dElkKSB7CiAgY29uc3Qgb3V0cHV0RWxlbWVudCA9IGRvY3VtZW50LmdldEVsZW1lbnRCeUlkKG91dHB1dElkKTsKICBjb25zdCBzdGVwcyA9IG91dHB1dEVsZW1lbnQuc3RlcHM7CgogIGNvbnN0IG5leHQgPSBzdGVwcy5uZXh0KG91dHB1dEVsZW1lbnQubGFzdFByb21pc2VWYWx1ZSk7CiAgcmV0dXJuIFByb21pc2UucmVzb2x2ZShuZXh0LnZhbHVlLnByb21pc2UpLnRoZW4oKHZhbHVlKSA9PiB7CiAgICAvLyBDYWNoZSB0aGUgbGFzdCBwcm9taXNlIHZhbHVlIHRvIG1ha2UgaXQgYXZhaWxhYmxlIHRvIHRoZSBuZXh0CiAgICAvLyBzdGVwIG9mIHRoZSBnZW5lcmF0b3IuCiAgICBvdXRwdXRFbGVtZW50Lmxhc3RQcm9taXNlVmFsdWUgPSB2YWx1ZTsKICAgIHJldHVybiBuZXh0LnZhbHVlLnJlc3BvbnNlOwogIH0pOwp9CgovKioKICogR2VuZXJhdG9yIGZ1bmN0aW9uIHdoaWNoIGlzIGNhbGxlZCBiZXR3ZWVuIGVhY2ggYXN5bmMgc3RlcCBvZiB0aGUgdXBsb2FkCiAqIHByb2Nlc3MuCiAqIEBwYXJhbSB7c3RyaW5nfSBpbnB1dElkIEVsZW1lbnQgSUQgb2YgdGhlIGlucHV0IGZpbGUgcGlja2VyIGVsZW1lbnQuCiAqIEBwYXJhbSB7c3RyaW5nfSBvdXRwdXRJZCBFbGVtZW50IElEIG9mIHRoZSBvdXRwdXQgZGlzcGxheS4KICogQHJldHVybiB7IUl0ZXJhYmxlPCFPYmplY3Q+fSBJdGVyYWJsZSBvZiBuZXh0IHN0ZXBzLgogKi8KZnVuY3Rpb24qIHVwbG9hZEZpbGVzU3RlcChpbnB1dElkLCBvdXRwdXRJZCkgewogIGNvbnN0IGlucHV0RWxlbWVudCA9IGRvY3VtZW50LmdldEVsZW1lbnRCeUlkKGlucHV0SWQpOwogIGlucHV0RWxlbWVudC5kaXNhYmxlZCA9IGZhbHNlOwoKICBjb25zdCBvdXRwdXRFbGVtZW50ID0gZG9jdW1lbnQuZ2V0RWxlbWVudEJ5SWQob3V0cHV0SWQpOwogIG91dHB1dEVsZW1lbnQuaW5uZXJIVE1MID0gJyc7CgogIGNvbnN0IHBpY2tlZFByb21pc2UgPSBuZXcgUHJvbWlzZSgocmVzb2x2ZSkgPT4gewogICAgaW5wdXRFbGVtZW50LmFkZEV2ZW50TGlzdGVuZXIoJ2NoYW5nZScsIChlKSA9PiB7CiAgICAgIHJlc29sdmUoZS50YXJnZXQuZmlsZXMpOwogICAgfSk7CiAgfSk7CgogIGNvbnN0IGNhbmNlbCA9IGRvY3VtZW50LmNyZWF0ZUVsZW1lbnQoJ2J1dHRvbicpOwogIGlucHV0RWxlbWVudC5wYXJlbnRFbGVtZW50LmFwcGVuZENoaWxkKGNhbmNlbCk7CiAgY2FuY2VsLnRleHRDb250ZW50ID0gJ0NhbmNlbCB1cGxvYWQnOwogIGNvbnN0IGNhbmNlbFByb21pc2UgPSBuZXcgUHJvbWlzZSgocmVzb2x2ZSkgPT4gewogICAgY2FuY2VsLm9uY2xpY2sgPSAoKSA9PiB7CiAgICAgIHJlc29sdmUobnVsbCk7CiAgICB9OwogIH0pOwoKICAvLyBXYWl0IGZvciB0aGUgdXNlciB0byBwaWNrIHRoZSBmaWxlcy4KICBjb25zdCBmaWxlcyA9IHlpZWxkIHsKICAgIHByb21pc2U6IFByb21pc2UucmFjZShbcGlja2VkUHJvbWlzZSwgY2FuY2VsUHJvbWlzZV0pLAogICAgcmVzcG9uc2U6IHsKICAgICAgYWN0aW9uOiAnc3RhcnRpbmcnLAogICAgfQogIH07CgogIGNhbmNlbC5yZW1vdmUoKTsKCiAgLy8gRGlzYWJsZSB0aGUgaW5wdXQgZWxlbWVudCBzaW5jZSBmdXJ0aGVyIHBpY2tzIGFyZSBub3QgYWxsb3dlZC4KICBpbnB1dEVsZW1lbnQuZGlzYWJsZWQgPSB0cnVlOwoKICBpZiAoIWZpbGVzKSB7CiAgICByZXR1cm4gewogICAgICByZXNwb25zZTogewogICAgICAgIGFjdGlvbjogJ2NvbXBsZXRlJywKICAgICAgfQogICAgfTsKICB9CgogIGZvciAoY29uc3QgZmlsZSBvZiBmaWxlcykgewogICAgY29uc3QgbGkgPSBkb2N1bWVudC5jcmVhdGVFbGVtZW50KCdsaScpOwogICAgbGkuYXBwZW5kKHNwYW4oZmlsZS5uYW1lLCB7Zm9udFdlaWdodDogJ2JvbGQnfSkpOwogICAgbGkuYXBwZW5kKHNwYW4oCiAgICAgICAgYCgke2ZpbGUudHlwZSB8fCAnbi9hJ30pIC0gJHtmaWxlLnNpemV9IGJ5dGVzLCBgICsKICAgICAgICBgbGFzdCBtb2RpZmllZDogJHsKICAgICAgICAgICAgZmlsZS5sYXN0TW9kaWZpZWREYXRlID8gZmlsZS5sYXN0TW9kaWZpZWREYXRlLnRvTG9jYWxlRGF0ZVN0cmluZygpIDoKICAgICAgICAgICAgICAgICAgICAgICAgICAgICAgICAgICAgJ24vYSd9IC0gYCkpOwogICAgY29uc3QgcGVyY2VudCA9IHNwYW4oJzAlIGRvbmUnKTsKICAgIGxpLmFwcGVuZENoaWxkKHBlcmNlbnQpOwoKICAgIG91dHB1dEVsZW1lbnQuYXBwZW5kQ2hpbGQobGkpOwoKICAgIGNvbnN0IGZpbGVEYXRhUHJvbWlzZSA9IG5ldyBQcm9taXNlKChyZXNvbHZlKSA9PiB7CiAgICAgIGNvbnN0IHJlYWRlciA9IG5ldyBGaWxlUmVhZGVyKCk7CiAgICAgIHJlYWRlci5vbmxvYWQgPSAoZSkgPT4gewogICAgICAgIHJlc29sdmUoZS50YXJnZXQucmVzdWx0KTsKICAgICAgfTsKICAgICAgcmVhZGVyLnJlYWRBc0FycmF5QnVmZmVyKGZpbGUpOwogICAgfSk7CiAgICAvLyBXYWl0IGZvciB0aGUgZGF0YSB0byBiZSByZWFkeS4KICAgIGxldCBmaWxlRGF0YSA9IHlpZWxkIHsKICAgICAgcHJvbWlzZTogZmlsZURhdGFQcm9taXNlLAogICAgICByZXNwb25zZTogewogICAgICAgIGFjdGlvbjogJ2NvbnRpbnVlJywKICAgICAgfQogICAgfTsKCiAgICAvLyBVc2UgYSBjaHVua2VkIHNlbmRpbmcgdG8gYXZvaWQgbWVzc2FnZSBzaXplIGxpbWl0cy4gU2VlIGIvNjIxMTU2NjAuCiAgICBsZXQgcG9zaXRpb24gPSAwOwogICAgZG8gewogICAgICBjb25zdCBsZW5ndGggPSBNYXRoLm1pbihmaWxlRGF0YS5ieXRlTGVuZ3RoIC0gcG9zaXRpb24sIE1BWF9QQVlMT0FEX1NJWkUpOwogICAgICBjb25zdCBjaHVuayA9IG5ldyBVaW50OEFycmF5KGZpbGVEYXRhLCBwb3NpdGlvbiwgbGVuZ3RoKTsKICAgICAgcG9zaXRpb24gKz0gbGVuZ3RoOwoKICAgICAgY29uc3QgYmFzZTY0ID0gYnRvYShTdHJpbmcuZnJvbUNoYXJDb2RlLmFwcGx5KG51bGwsIGNodW5rKSk7CiAgICAgIHlpZWxkIHsKICAgICAgICByZXNwb25zZTogewogICAgICAgICAgYWN0aW9uOiAnYXBwZW5kJywKICAgICAgICAgIGZpbGU6IGZpbGUubmFtZSwKICAgICAgICAgIGRhdGE6IGJhc2U2NCwKICAgICAgICB9LAogICAgICB9OwoKICAgICAgbGV0IHBlcmNlbnREb25lID0gZmlsZURhdGEuYnl0ZUxlbmd0aCA9PT0gMCA/CiAgICAgICAgICAxMDAgOgogICAgICAgICAgTWF0aC5yb3VuZCgocG9zaXRpb24gLyBmaWxlRGF0YS5ieXRlTGVuZ3RoKSAqIDEwMCk7CiAgICAgIHBlcmNlbnQudGV4dENvbnRlbnQgPSBgJHtwZXJjZW50RG9uZX0lIGRvbmVgOwoKICAgIH0gd2hpbGUgKHBvc2l0aW9uIDwgZmlsZURhdGEuYnl0ZUxlbmd0aCk7CiAgfQoKICAvLyBBbGwgZG9uZS4KICB5aWVsZCB7CiAgICByZXNwb25zZTogewogICAgICBhY3Rpb246ICdjb21wbGV0ZScsCiAgICB9CiAgfTsKfQoKc2NvcGUuZ29vZ2xlID0gc2NvcGUuZ29vZ2xlIHx8IHt9OwpzY29wZS5nb29nbGUuY29sYWIgPSBzY29wZS5nb29nbGUuY29sYWIgfHwge307CnNjb3BlLmdvb2dsZS5jb2xhYi5fZmlsZXMgPSB7CiAgX3VwbG9hZEZpbGVzLAogIF91cGxvYWRGaWxlc0NvbnRpbnVlLAp9Owp9KShzZWxmKTsK",
       "headers": [
        [
         "content-type",
         "application/javascript"
        ]
       ],
       "ok": true,
       "status": 200,
       "status_text": ""
      }
     }
    },
    "id": "RwSW3fydlfqh",
    "outputId": "3327767d-a819-4da8-f147-8f690b18fe76"
   },
   "outputs": [
    {
     "data": {
      "text/html": [
       "\n",
       "     <input type=\"file\" id=\"files-1971de41-0f5a-417a-b898-541b41380688\" name=\"files[]\" multiple disabled\n",
       "        style=\"border:none\" />\n",
       "     <output id=\"result-1971de41-0f5a-417a-b898-541b41380688\">\n",
       "      Upload widget is only available when the cell has been executed in the\n",
       "      current browser session. Please rerun this cell to enable.\n",
       "      </output>\n",
       "      <script src=\"/nbextensions/google.colab/files.js\"></script> "
      ],
      "text/plain": [
       "<IPython.core.display.HTML object>"
      ]
     },
     "metadata": {},
     "output_type": "display_data"
    },
    {
     "name": "stdout",
     "output_type": "stream",
     "text": [
      "Saving kaggle.json to kaggle.json\n"
     ]
    },
    {
     "data": {
      "text/plain": [
       "{'kaggle.json': b'{\"username\":\"zzisaac\",\"key\":\"faa744fddbe350cee2e11ead9cea999b\"}'}"
      ]
     },
     "execution_count": 2,
     "metadata": {},
     "output_type": "execute_result"
    }
   ],
   "source": [
    "# upload kaggle.json\n",
    "from google.colab import files\n",
    "files.upload()"
   ]
  },
  {
   "cell_type": "code",
   "execution_count": null,
   "metadata": {
    "id": "SmCdFn4GmB05"
   },
   "outputs": [],
   "source": [
    "! mkdir ~/.kaggle\n",
    "! cp kaggle.json ~/.kaggle/\n",
    "! chmod 600 ~/.kaggle/kaggle.json"
   ]
  },
  {
   "cell_type": "code",
   "execution_count": null,
   "metadata": {
    "id": "WC0Il2dcbbLm"
   },
   "outputs": [],
   "source": [
    "# Downloading kaggle dataset to the working directory of Colab instance\n",
    "! kaggle datasets download jonathanbesomi/rsna-miccai-png\n",
    "! unzip /content/rsna-miccai-png.zip\n"
   ]
  },
  {
   "cell_type": "code",
   "execution_count": null,
   "metadata": {
    "id": "uMGj7kUOobCw"
   },
   "outputs": [],
   "source": [
    "# Downloading BraTs2020.h5 (weights of an image segmentation UNet trained on the BraTs2020 dataset)\n",
    "! kaggle kernels output arashmehrzadi/brain-tumor-segmentation-unet -p /content/"
   ]
  },
  {
   "cell_type": "code",
   "execution_count": null,
   "metadata": {
    "id": "GCoDcpl8lei-"
   },
   "outputs": [],
   "source": [
    "'''\n",
    "This project was in response to the RSNA-MICCAI Brain Tumour Radiogenomic Classification competition on Kaggle.\n",
    "(https://www.kaggle.com/c/rsna-miccai-brain-tumor-radiogenomic-classification)\n",
    "\n",
    "There are 2 parts to this model: \n",
    "1. Pretrained UNet for image segmentation (code is taken from https://www.kaggle.com/frlemarchand/brain-tumour-segmentation-in-mri-slices/notebook)\n",
    "2. CNN with input as best image of each study and output as 0 or 1 (self-written code)\n",
    "'''\n",
    "\n",
    "## BUILD UNET MODEL\n",
    "#input image\n",
    "img_width = img_height = 512\n",
    "img_channels = 1\n",
    "\n",
    "import numpy as np\n",
    "import math\n",
    "import random\n",
    "import os\n",
    "from PIL import Image\n",
    "import cv2 as cv\n",
    "import pandas as pd\n",
    "import matplotlib.pyplot as plt\n",
    "import tensorflow as tf\n",
    "from tensorflow import keras\n",
    "from keras.models import Model, load_model\n",
    "from keras.layers import Input ,BatchNormalization , Activation \n",
    "from keras.layers.convolutional import Conv2D, UpSampling2D\n",
    "from keras.layers.pooling import MaxPooling2D\n",
    "from keras.layers.merge import concatenate\n",
    "from keras.callbacks import EarlyStopping, ModelCheckpoint\n",
    "from keras import optimizers \n",
    "from keras import backend as K\n",
    "from sklearn.model_selection import train_test_split\n",
    "\n",
    "def Convolution(input_tensor,filters):\n",
    "    x = Conv2D(filters=filters,kernel_size=(3, 3),padding = 'same',strides=(1, 1))(input_tensor)\n",
    "    x = BatchNormalization()(x)\n",
    "    x = Activation('relu')(x) \n",
    "    return x\n",
    "\n",
    "def model(input_shape):\n",
    "    \n",
    "    inputs = Input((input_shape))\n",
    "\n",
    "    #Maxpooling\n",
    "    conv_1 = Convolution(inputs,32)\n",
    "    maxp_1 = MaxPooling2D(pool_size = (2, 2), strides = (2, 2), padding = 'same') (conv_1)\n",
    "    \n",
    "    conv_2 = Convolution(maxp_1,64)\n",
    "    maxp_2 = MaxPooling2D(pool_size = (2, 2), strides = (2, 2), padding = 'same') (conv_2)\n",
    "    \n",
    "    conv_3 = Convolution(maxp_2,128)\n",
    "    maxp_3 = MaxPooling2D(pool_size = (2, 2), strides = (2, 2), padding = 'same') (conv_3)\n",
    "    \n",
    "    conv_4 = Convolution(maxp_3,256)\n",
    "    maxp_4 = MaxPooling2D(pool_size = (2, 2), strides = (2, 2), padding = 'same') (conv_4)\n",
    "\n",
    "    #Upsampling\n",
    "    conv_5 = Convolution(maxp_4,512)\n",
    "    upsample_6 = UpSampling2D((2, 2)) (conv_5)\n",
    "    \n",
    "    conv_6 = Convolution(upsample_6,256)\n",
    "    upsample_7 = UpSampling2D((2, 2)) (conv_6)\n",
    "    \n",
    "    upsample_7 = concatenate([upsample_7, conv_3])\n",
    "    \n",
    "    conv_7 = Convolution(upsample_7,128)\n",
    "    upsample_8 = UpSampling2D((2, 2)) (conv_7)\n",
    "    \n",
    "    conv_8 = Convolution(upsample_8,64)\n",
    "    upsample_9 = UpSampling2D((2, 2)) (conv_8)\n",
    "    \n",
    "    upsample_9 = concatenate([upsample_9, conv_1])\n",
    "    \n",
    "    conv_9 = Convolution(upsample_9,32)\n",
    "    outputs = Conv2D(1, (1, 1), activation='sigmoid') (conv_9)\n",
    "    \n",
    "    model = Model(inputs=[inputs], outputs=[outputs]) \n",
    "    \n",
    "    return model\n"
   ]
  },
  {
   "cell_type": "code",
   "execution_count": null,
   "metadata": {
    "id": "rxMGcGs9n17a"
   },
   "outputs": [],
   "source": [
    "#Using the pre-trained weights BraTs2020.h5\n",
    "input_size = 240\n",
    "model = model(input_shape = (input_size, input_size, 1))\n",
    "model.load_weights(\"/content/BraTs2020.h5\")\n",
    "model.summary()"
   ]
  },
  {
   "cell_type": "code",
   "execution_count": null,
   "metadata": {
    "id": "WQITLlZnDaa0"
   },
   "outputs": [],
   "source": [
    "path_to_training_studies = \"/content/train\"\n",
    "training_studies = os.listdir(path_to_training_studies)\n",
    "random.seed(24)\n",
    "studies_to_view = random.choices(training_studies, k=3) #3 random studies"
   ]
  },
  {
   "cell_type": "code",
   "execution_count": null,
   "metadata": {
    "id": "s_MFOENhWVPu"
   },
   "outputs": [],
   "source": [
    "def prediction(img_path, save_folder=\"\"):\n",
    "    '''\n",
    "    resize the input image and run the prediction\n",
    "    while removing some noise and saving the mask if required\n",
    "    '''\n",
    "    \n",
    "    test_img = Image.open(img_path)\n",
    "    resized_img = np.array(test_img.resize((input_size, input_size)))\n",
    "    \n",
    "    result = model.predict(np.array([resized_img]))[0].transpose(2,0,1)[0]\n",
    "\n",
    "    #Remove some of the noise in the predicted mask\n",
    "    kernel = np.ones((10,10),np.uint8)\n",
    "    result = cv.morphologyEx(result, cv.MORPH_OPEN, kernel)\n",
    "    result = np.where(result > 0.9, 1, 0)\n",
    "\n",
    "    #Renaming and saving resized result to save_folder\n",
    "    if save_folder!=\"\":\n",
    "        save_path = img_path.replace(\"content\", save_folder)\n",
    "        save_path = save_path.replace(\".png\",\"-tumour-mask.png\").replace(\"/T1w\",\"\")\n",
    "        save_folder = save_path.replace(save_path.split(\"/\")[-1],\"\")\n",
    "        if not os.path.exists(save_folder):\n",
    "            os.mkdir(save_folder)\n",
    "        \n",
    "        resized_result = cv.resize(result.astype(\"float32\"), (512,512), interpolation = cv.INTER_AREA)\n",
    "        cv.imwrite(save_path, resized_result)    \n",
    "    \n",
    "    return resized_img, result\n",
    "\n",
    "def find_tumour(study_filename, save_folder=\"\", dataset=path_to_training_studies):\n",
    "    '''\n",
    "    Apply the model on all MRI slices of study and return the \n",
    "    slice with the greatest amount of pixels with tumour\n",
    "    '''\n",
    "    \n",
    "    max_detected = 0\n",
    "    tumour_slice = \"\"\n",
    "    MRI_slices = os.listdir(os.path.join(dataset, study_filename, \"T1w\"))\n",
    "    \n",
    "    for MRI_slice_filename in MRI_slices:\n",
    "        path_to_slice = os.path.join(dataset, study_filename, \"T1w\", MRI_slice_filename)\n",
    "        formatted_img, result = prediction(path_to_slice, save_folder)\n",
    "        \n",
    "        tumour_pixel = len(result[result>0.5])\n",
    "        \n",
    "        if max_detected <= tumour_pixel:\n",
    "            max_detected = tumour_pixel\n",
    "            tumour_slice = path_to_slice\n",
    "    return tumour_slice\n",
    "\n",
    "def display(img, result):\n",
    "    plt.imshow(np.squeeze(img),cmap='gray')\n",
    "    plt.imshow(np.squeeze(result),alpha=0.6,cmap='Reds')\n",
    "    plt.show()"
   ]
  },
  {
   "cell_type": "code",
   "execution_count": null,
   "metadata": {
    "colab": {
     "base_uri": "https://localhost:8080/",
     "height": 269
    },
    "id": "zJMOETOc_GBE",
    "outputId": "baed03a7-eedc-481b-d807-84ede93dc01f"
   },
   "outputs": [
    {
     "data": {
      "image/png": "[encoded data removed]",
      "text/plain": [
       "<Figure size 432x288 with 1 Axes>"
      ]
     },
     "metadata": {
      "needs_background": "light"
     },
     "output_type": "display_data"
    }
   ],
   "source": [
    "MRI_slice_filename = find_tumour(studies_to_view[0])\n",
    "img, result = prediction(MRI_slice_filename)\n",
    "display(img, result)"
   ]
  },
  {
   "cell_type": "code",
   "execution_count": null,
   "metadata": {
    "id": "rXTvEEiQ084j"
   },
   "outputs": [],
   "source": [
    "os.mkdir('/content/working')\n",
    "os.mkdir('/content/working/rsna-miccai-tumour-mask')\n",
    "os.mkdir('/content/working/rsna-miccai-tumour-mask/train')\n",
    "os.mkdir('/content/working/rsna-miccai-tumour-mask/test')"
   ]
  },
  {
   "cell_type": "code",
   "execution_count": null,
   "metadata": {
    "colab": {
     "base_uri": "https://localhost:8080/"
    },
    "id": "l__QGA5n2Lc6",
    "outputId": "fc7a9c87-909f-4013-803b-79660d531492"
   },
   "outputs": [
    {
     "name": "stdout",
     "output_type": "stream",
     "text": [
      "Mounted at /content/gdrive\n"
     ]
    }
   ],
   "source": [
    "from google.colab import drive\n",
    "drive.mount('/content/gdrive',force_remount=True)"
   ]
  },
  {
   "cell_type": "code",
   "execution_count": null,
   "metadata": {
    "colab": {
     "base_uri": "https://localhost:8080/"
    },
    "id": "hwIOcHSAb30b",
    "outputId": "187c77d4-e6d5-422f-b7c8-eb06af3017ff"
   },
   "outputs": [
    {
     "name": "stdout",
     "output_type": "stream",
     "text": [
      "/bin/bash: -c: line 0: unexpected EOF while looking for matching `''\n",
      "/bin/bash: -c: line 1: syntax error: unexpected end of file\n"
     ]
    }
   ],
   "source": [
    "!cp -r '/content/gdrive/MyDrive/best-img/train/.' '/content/working/rsna-miccai-tumour-mask/train'\n",
    "!cp -r '/content/gdrive/MyDrive/best-img/val/.' '/content/working/rsna-miccai-tumour-mask/train'"
   ]
  },
  {
   "cell_type": "code",
   "execution_count": null,
   "metadata": {
    "colab": {
     "base_uri": "https://localhost:8080/"
    },
    "id": "rWAFpja1YlTm",
    "outputId": "a9314688-834f-41c0-fb64-e862a4d4a632"
   },
   "outputs": [
    {
     "name": "stdout",
     "output_type": "stream",
     "text": [
      "117\n",
      "467\n",
      "584\n"
     ]
    }
   ],
   "source": [
    "#Check that all files are copied\n",
    "print(len(os.listdir('/content/gdrive/MyDrive/best-img/val')))\n",
    "print(len(os.listdir('/content/gdrive/MyDrive/best-img/train')))\n",
    "print(len(os.listdir('/content/working/rsna-miccai-tumour-mask/train')))"
   ]
  },
  {
   "cell_type": "code",
   "execution_count": null,
   "metadata": {
    "id": "VHdCuYx0M4wz"
   },
   "outputs": [],
   "source": [
    "#Generate best img for each training study\n",
    "train_folder_content = os.listdir(path_to_training_studies)\n",
    "for study_folder in train_folder_content:\n",
    "    MRI_slice_filename = find_tumour(study_folder, save_folder=\"\", dataset=path_to_training_studies)\n",
    "    prediction(MRI_slice_filename, save_folder=\"content/working/rsna-miccai-tumour-mask\")\n",
    "\n",
    "#Generate best img for each test study\n",
    "'''path_to_test_studies = \"/content/test\"\n",
    "test_folder_content = os.listdir(path_to_test_studies)\n",
    "for study_folder in test_folder_content:\n",
    "    MRI_slice_filename = find_tumour(study_folder, save_folder=\"\", dataset=path_to_test_studies)\n",
    "    prediction(MRI_slice_filename, save_folder=\"content/working/rsna-miccai-tumour-mask\")'''"
   ]
  },
  {
   "cell_type": "code",
   "execution_count": null,
   "metadata": {
    "colab": {
     "base_uri": "https://localhost:8080/"
    },
    "id": "ZB26v5GoLatJ",
    "outputId": "5aae3e62-0639-4bf9-9897-663b3c829cab"
   },
   "outputs": [
    {
     "name": "stdout",
     "output_type": "stream",
     "text": [
      "Model: \"model_1\"\n",
      "_________________________________________________________________\n",
      "Layer (type)                 Output Shape              Param #   \n",
      "=================================================================\n",
      "input_2 (InputLayer)         [(None, 512, 512, 1)]     0         \n",
      "_________________________________________________________________\n",
      "conv2d_10 (Conv2D)           (None, 510, 510, 16)      160       \n",
      "_________________________________________________________________\n",
      "max_pooling2d_4 (MaxPooling2 (None, 255, 255, 16)      0         \n",
      "_________________________________________________________________\n",
      "conv2d_11 (Conv2D)           (None, 253, 253, 32)      4640      \n",
      "_________________________________________________________________\n",
      "max_pooling2d_5 (MaxPooling2 (None, 127, 127, 32)      0         \n",
      "_________________________________________________________________\n",
      "conv2d_12 (Conv2D)           (None, 125, 125, 64)      18496     \n",
      "_________________________________________________________________\n",
      "max_pooling2d_6 (MaxPooling2 (None, 63, 63, 64)        0         \n",
      "_________________________________________________________________\n",
      "conv2d_13 (Conv2D)           (None, 61, 61, 64)        36928     \n",
      "_________________________________________________________________\n",
      "max_pooling2d_7 (MaxPooling2 (None, 31, 31, 64)        0         \n",
      "_________________________________________________________________\n",
      "conv2d_14 (Conv2D)           (None, 29, 29, 64)        36928     \n",
      "_________________________________________________________________\n",
      "max_pooling2d_8 (MaxPooling2 (None, 15, 15, 64)        0         \n",
      "_________________________________________________________________\n",
      "flatten (Flatten)            (None, 14400)             0         \n",
      "_________________________________________________________________\n",
      "dense (Dense)                (None, 512)               7373312   \n",
      "_________________________________________________________________\n",
      "dense_1 (Dense)              (None, 1)                 513       \n",
      "=================================================================\n",
      "Total params: 7,470,977\n",
      "Trainable params: 7,470,977\n",
      "Non-trainable params: 0\n",
      "_________________________________________________________________\n"
     ]
    }
   ],
   "source": [
    "#Build simple CNN model\n",
    "\n",
    "def model(input_shape):\n",
    "    \n",
    "    inputs = Input((input_shape))\n",
    "\n",
    "    #Maxpooling\n",
    "    c1 = Conv2D(16, (3,3), activation='relu') (inputs)\n",
    "    mp1 = MaxPooling2D(pool_size = (2, 2), strides = (2, 2), padding = 'same') (c1)\n",
    "    \n",
    "    c2 = Conv2D(32, (3,3), activation='relu') (mp1)\n",
    "    mp2 = MaxPooling2D(pool_size = (2, 2), strides = (2, 2), padding = 'same') (c2)\n",
    "    \n",
    "    c3 = Conv2D(64, (3,3), activation='relu') (mp2)\n",
    "    mp3 = MaxPooling2D(pool_size = (2, 2), strides = (2, 2), padding = 'same') (c3)\n",
    "    \n",
    "    c4 = Conv2D(64, (3,3), activation='relu') (mp3)\n",
    "    mp4 = MaxPooling2D(pool_size = (2, 2), strides = (2, 2), padding = 'same') (c4)\n",
    "\n",
    "    c5 = Conv2D(64, (3,3), activation='relu') (mp4)\n",
    "    mp5 = MaxPooling2D(pool_size = (2, 2), strides = (2, 2), padding = 'same') (c5)\n",
    "\n",
    "    # Flatten\n",
    "    f1 = tf.keras.layers.Flatten() (mp5)\n",
    "\n",
    "    # 512 neuron hidden layer\n",
    "    d1 = tf.keras.layers.Dense(512, activation='relu') (f1)\n",
    "\n",
    "    # Only 1 output neuron. It will contain a value from 0-1 where 0 for 1 class and 1 for the other\n",
    "    outputs = tf.keras.layers.Dense(1, activation='sigmoid') (d1)\n",
    "\n",
    "    \n",
    "    model = Model(inputs=[inputs], outputs=[outputs]) \n",
    "    \n",
    "    return model\n",
    "\n",
    "input_size = 512\n",
    "model = model(input_shape = (input_size, input_size, 1))\n",
    "model.summary()"
   ]
  },
  {
   "cell_type": "code",
   "execution_count": null,
   "metadata": {
    "colab": {
     "base_uri": "https://localhost:8080/",
     "height": 73,
     "resources": {
      "http://localhost:8080/nbextensions/google.colab/files.js": {
       "data": "Ly8gQ29weXJpZ2h0IDIwMTcgR29vZ2xlIExMQwovLwovLyBMaWNlbnNlZCB1bmRlciB0aGUgQXBhY2hlIExpY2Vuc2UsIFZlcnNpb24gMi4wICh0aGUgIkxpY2Vuc2UiKTsKLy8geW91IG1heSBub3QgdXNlIHRoaXMgZmlsZSBleGNlcHQgaW4gY29tcGxpYW5jZSB3aXRoIHRoZSBMaWNlbnNlLgovLyBZb3UgbWF5IG9idGFpbiBhIGNvcHkgb2YgdGhlIExpY2Vuc2UgYXQKLy8KLy8gICAgICBodHRwOi8vd3d3LmFwYWNoZS5vcmcvbGljZW5zZXMvTElDRU5TRS0yLjAKLy8KLy8gVW5sZXNzIHJlcXVpcmVkIGJ5IGFwcGxpY2FibGUgbGF3IG9yIGFncmVlZCB0byBpbiB3cml0aW5nLCBzb2Z0d2FyZQovLyBkaXN0cmlidXRlZCB1bmRlciB0aGUgTGljZW5zZSBpcyBkaXN0cmlidXRlZCBvbiBhbiAiQVMgSVMiIEJBU0lTLAovLyBXSVRIT1VUIFdBUlJBTlRJRVMgT1IgQ09ORElUSU9OUyBPRiBBTlkgS0lORCwgZWl0aGVyIGV4cHJlc3Mgb3IgaW1wbGllZC4KLy8gU2VlIHRoZSBMaWNlbnNlIGZvciB0aGUgc3BlY2lmaWMgbGFuZ3VhZ2UgZ292ZXJuaW5nIHBlcm1pc3Npb25zIGFuZAovLyBsaW1pdGF0aW9ucyB1bmRlciB0aGUgTGljZW5zZS4KCi8qKgogKiBAZmlsZW92ZXJ2aWV3IEhlbHBlcnMgZm9yIGdvb2dsZS5jb2xhYiBQeXRob24gbW9kdWxlLgogKi8KKGZ1bmN0aW9uKHNjb3BlKSB7CmZ1bmN0aW9uIHNwYW4odGV4dCwgc3R5bGVBdHRyaWJ1dGVzID0ge30pIHsKICBjb25zdCBlbGVtZW50ID0gZG9jdW1lbnQuY3JlYXRlRWxlbWVudCgnc3BhbicpOwogIGVsZW1lbnQudGV4dENvbnRlbnQgPSB0ZXh0OwogIGZvciAoY29uc3Qga2V5IG9mIE9iamVjdC5rZXlzKHN0eWxlQXR0cmlidXRlcykpIHsKICAgIGVsZW1lbnQuc3R5bGVba2V5XSA9IHN0eWxlQXR0cmlidXRlc1trZXldOwogIH0KICByZXR1cm4gZWxlbWVudDsKfQoKLy8gTWF4IG51bWJlciBvZiBieXRlcyB3aGljaCB3aWxsIGJlIHVwbG9hZGVkIGF0IGEgdGltZS4KY29uc3QgTUFYX1BBWUxPQURfU0laRSA9IDEwMCAqIDEwMjQ7CgpmdW5jdGlvbiBfdXBsb2FkRmlsZXMoaW5wdXRJZCwgb3V0cHV0SWQpIHsKICBjb25zdCBzdGVwcyA9IHVwbG9hZEZpbGVzU3RlcChpbnB1dElkLCBvdXRwdXRJZCk7CiAgY29uc3Qgb3V0cHV0RWxlbWVudCA9IGRvY3VtZW50LmdldEVsZW1lbnRCeUlkKG91dHB1dElkKTsKICAvLyBDYWNoZSBzdGVwcyBvbiB0aGUgb3V0cHV0RWxlbWVudCB0byBtYWtlIGl0IGF2YWlsYWJsZSBmb3IgdGhlIG5leHQgY2FsbAogIC8vIHRvIHVwbG9hZEZpbGVzQ29udGludWUgZnJvbSBQeXRob24uCiAgb3V0cHV0RWxlbWVudC5zdGVwcyA9IHN0ZXBzOwoKICByZXR1cm4gX3VwbG9hZEZpbGVzQ29udGludWUob3V0cHV0SWQpOwp9CgovLyBUaGlzIGlzIHJvdWdobHkgYW4gYXN5bmMgZ2VuZXJhdG9yIChub3Qgc3VwcG9ydGVkIGluIHRoZSBicm93c2VyIHlldCksCi8vIHdoZXJlIHRoZXJlIGFyZSBtdWx0aXBsZSBhc3luY2hyb25vdXMgc3RlcHMgYW5kIHRoZSBQeXRob24gc2lkZSBpcyBnb2luZwovLyB0byBwb2xsIGZvciBjb21wbGV0aW9uIG9mIGVhY2ggc3RlcC4KLy8gVGhpcyB1c2VzIGEgUHJvbWlzZSB0byBibG9jayB0aGUgcHl0aG9uIHNpZGUgb24gY29tcGxldGlvbiBvZiBlYWNoIHN0ZXAsCi8vIHRoZW4gcGFzc2VzIHRoZSByZXN1bHQgb2YgdGhlIHByZXZpb3VzIHN0ZXAgYXMgdGhlIGlucHV0IHRvIHRoZSBuZXh0IHN0ZXAuCmZ1bmN0aW9uIF91cGxvYWRGaWxlc0NvbnRpbnVlKG91dHB1dElkKSB7CiAgY29uc3Qgb3V0cHV0RWxlbWVudCA9IGRvY3VtZW50LmdldEVsZW1lbnRCeUlkKG91dHB1dElkKTsKICBjb25zdCBzdGVwcyA9IG91dHB1dEVsZW1lbnQuc3RlcHM7CgogIGNvbnN0IG5leHQgPSBzdGVwcy5uZXh0KG91dHB1dEVsZW1lbnQubGFzdFByb21pc2VWYWx1ZSk7CiAgcmV0dXJuIFByb21pc2UucmVzb2x2ZShuZXh0LnZhbHVlLnByb21pc2UpLnRoZW4oKHZhbHVlKSA9PiB7CiAgICAvLyBDYWNoZSB0aGUgbGFzdCBwcm9taXNlIHZhbHVlIHRvIG1ha2UgaXQgYXZhaWxhYmxlIHRvIHRoZSBuZXh0CiAgICAvLyBzdGVwIG9mIHRoZSBnZW5lcmF0b3IuCiAgICBvdXRwdXRFbGVtZW50Lmxhc3RQcm9taXNlVmFsdWUgPSB2YWx1ZTsKICAgIHJldHVybiBuZXh0LnZhbHVlLnJlc3BvbnNlOwogIH0pOwp9CgovKioKICogR2VuZXJhdG9yIGZ1bmN0aW9uIHdoaWNoIGlzIGNhbGxlZCBiZXR3ZWVuIGVhY2ggYXN5bmMgc3RlcCBvZiB0aGUgdXBsb2FkCiAqIHByb2Nlc3MuCiAqIEBwYXJhbSB7c3RyaW5nfSBpbnB1dElkIEVsZW1lbnQgSUQgb2YgdGhlIGlucHV0IGZpbGUgcGlja2VyIGVsZW1lbnQuCiAqIEBwYXJhbSB7c3RyaW5nfSBvdXRwdXRJZCBFbGVtZW50IElEIG9mIHRoZSBvdXRwdXQgZGlzcGxheS4KICogQHJldHVybiB7IUl0ZXJhYmxlPCFPYmplY3Q+fSBJdGVyYWJsZSBvZiBuZXh0IHN0ZXBzLgogKi8KZnVuY3Rpb24qIHVwbG9hZEZpbGVzU3RlcChpbnB1dElkLCBvdXRwdXRJZCkgewogIGNvbnN0IGlucHV0RWxlbWVudCA9IGRvY3VtZW50LmdldEVsZW1lbnRCeUlkKGlucHV0SWQpOwogIGlucHV0RWxlbWVudC5kaXNhYmxlZCA9IGZhbHNlOwoKICBjb25zdCBvdXRwdXRFbGVtZW50ID0gZG9jdW1lbnQuZ2V0RWxlbWVudEJ5SWQob3V0cHV0SWQpOwogIG91dHB1dEVsZW1lbnQuaW5uZXJIVE1MID0gJyc7CgogIGNvbnN0IHBpY2tlZFByb21pc2UgPSBuZXcgUHJvbWlzZSgocmVzb2x2ZSkgPT4gewogICAgaW5wdXRFbGVtZW50LmFkZEV2ZW50TGlzdGVuZXIoJ2NoYW5nZScsIChlKSA9PiB7CiAgICAgIHJlc29sdmUoZS50YXJnZXQuZmlsZXMpOwogICAgfSk7CiAgfSk7CgogIGNvbnN0IGNhbmNlbCA9IGRvY3VtZW50LmNyZWF0ZUVsZW1lbnQoJ2J1dHRvbicpOwogIGlucHV0RWxlbWVudC5wYXJlbnRFbGVtZW50LmFwcGVuZENoaWxkKGNhbmNlbCk7CiAgY2FuY2VsLnRleHRDb250ZW50ID0gJ0NhbmNlbCB1cGxvYWQnOwogIGNvbnN0IGNhbmNlbFByb21pc2UgPSBuZXcgUHJvbWlzZSgocmVzb2x2ZSkgPT4gewogICAgY2FuY2VsLm9uY2xpY2sgPSAoKSA9PiB7CiAgICAgIHJlc29sdmUobnVsbCk7CiAgICB9OwogIH0pOwoKICAvLyBXYWl0IGZvciB0aGUgdXNlciB0byBwaWNrIHRoZSBmaWxlcy4KICBjb25zdCBmaWxlcyA9IHlpZWxkIHsKICAgIHByb21pc2U6IFByb21pc2UucmFjZShbcGlja2VkUHJvbWlzZSwgY2FuY2VsUHJvbWlzZV0pLAogICAgcmVzcG9uc2U6IHsKICAgICAgYWN0aW9uOiAnc3RhcnRpbmcnLAogICAgfQogIH07CgogIGNhbmNlbC5yZW1vdmUoKTsKCiAgLy8gRGlzYWJsZSB0aGUgaW5wdXQgZWxlbWVudCBzaW5jZSBmdXJ0aGVyIHBpY2tzIGFyZSBub3QgYWxsb3dlZC4KICBpbnB1dEVsZW1lbnQuZGlzYWJsZWQgPSB0cnVlOwoKICBpZiAoIWZpbGVzKSB7CiAgICByZXR1cm4gewogICAgICByZXNwb25zZTogewogICAgICAgIGFjdGlvbjogJ2NvbXBsZXRlJywKICAgICAgfQogICAgfTsKICB9CgogIGZvciAoY29uc3QgZmlsZSBvZiBmaWxlcykgewogICAgY29uc3QgbGkgPSBkb2N1bWVudC5jcmVhdGVFbGVtZW50KCdsaScpOwogICAgbGkuYXBwZW5kKHNwYW4oZmlsZS5uYW1lLCB7Zm9udFdlaWdodDogJ2JvbGQnfSkpOwogICAgbGkuYXBwZW5kKHNwYW4oCiAgICAgICAgYCgke2ZpbGUudHlwZSB8fCAnbi9hJ30pIC0gJHtmaWxlLnNpemV9IGJ5dGVzLCBgICsKICAgICAgICBgbGFzdCBtb2RpZmllZDogJHsKICAgICAgICAgICAgZmlsZS5sYXN0TW9kaWZpZWREYXRlID8gZmlsZS5sYXN0TW9kaWZpZWREYXRlLnRvTG9jYWxlRGF0ZVN0cmluZygpIDoKICAgICAgICAgICAgICAgICAgICAgICAgICAgICAgICAgICAgJ24vYSd9IC0gYCkpOwogICAgY29uc3QgcGVyY2VudCA9IHNwYW4oJzAlIGRvbmUnKTsKICAgIGxpLmFwcGVuZENoaWxkKHBlcmNlbnQpOwoKICAgIG91dHB1dEVsZW1lbnQuYXBwZW5kQ2hpbGQobGkpOwoKICAgIGNvbnN0IGZpbGVEYXRhUHJvbWlzZSA9IG5ldyBQcm9taXNlKChyZXNvbHZlKSA9PiB7CiAgICAgIGNvbnN0IHJlYWRlciA9IG5ldyBGaWxlUmVhZGVyKCk7CiAgICAgIHJlYWRlci5vbmxvYWQgPSAoZSkgPT4gewogICAgICAgIHJlc29sdmUoZS50YXJnZXQucmVzdWx0KTsKICAgICAgfTsKICAgICAgcmVhZGVyLnJlYWRBc0FycmF5QnVmZmVyKGZpbGUpOwogICAgfSk7CiAgICAvLyBXYWl0IGZvciB0aGUgZGF0YSB0byBiZSByZWFkeS4KICAgIGxldCBmaWxlRGF0YSA9IHlpZWxkIHsKICAgICAgcHJvbWlzZTogZmlsZURhdGFQcm9taXNlLAogICAgICByZXNwb25zZTogewogICAgICAgIGFjdGlvbjogJ2NvbnRpbnVlJywKICAgICAgfQogICAgfTsKCiAgICAvLyBVc2UgYSBjaHVua2VkIHNlbmRpbmcgdG8gYXZvaWQgbWVzc2FnZSBzaXplIGxpbWl0cy4gU2VlIGIvNjIxMTU2NjAuCiAgICBsZXQgcG9zaXRpb24gPSAwOwogICAgZG8gewogICAgICBjb25zdCBsZW5ndGggPSBNYXRoLm1pbihmaWxlRGF0YS5ieXRlTGVuZ3RoIC0gcG9zaXRpb24sIE1BWF9QQVlMT0FEX1NJWkUpOwogICAgICBjb25zdCBjaHVuayA9IG5ldyBVaW50OEFycmF5KGZpbGVEYXRhLCBwb3NpdGlvbiwgbGVuZ3RoKTsKICAgICAgcG9zaXRpb24gKz0gbGVuZ3RoOwoKICAgICAgY29uc3QgYmFzZTY0ID0gYnRvYShTdHJpbmcuZnJvbUNoYXJDb2RlLmFwcGx5KG51bGwsIGNodW5rKSk7CiAgICAgIHlpZWxkIHsKICAgICAgICByZXNwb25zZTogewogICAgICAgICAgYWN0aW9uOiAnYXBwZW5kJywKICAgICAgICAgIGZpbGU6IGZpbGUubmFtZSwKICAgICAgICAgIGRhdGE6IGJhc2U2NCwKICAgICAgICB9LAogICAgICB9OwoKICAgICAgbGV0IHBlcmNlbnREb25lID0gZmlsZURhdGEuYnl0ZUxlbmd0aCA9PT0gMCA/CiAgICAgICAgICAxMDAgOgogICAgICAgICAgTWF0aC5yb3VuZCgocG9zaXRpb24gLyBmaWxlRGF0YS5ieXRlTGVuZ3RoKSAqIDEwMCk7CiAgICAgIHBlcmNlbnQudGV4dENvbnRlbnQgPSBgJHtwZXJjZW50RG9uZX0lIGRvbmVgOwoKICAgIH0gd2hpbGUgKHBvc2l0aW9uIDwgZmlsZURhdGEuYnl0ZUxlbmd0aCk7CiAgfQoKICAvLyBBbGwgZG9uZS4KICB5aWVsZCB7CiAgICByZXNwb25zZTogewogICAgICBhY3Rpb246ICdjb21wbGV0ZScsCiAgICB9CiAgfTsKfQoKc2NvcGUuZ29vZ2xlID0gc2NvcGUuZ29vZ2xlIHx8IHt9OwpzY29wZS5nb29nbGUuY29sYWIgPSBzY29wZS5nb29nbGUuY29sYWIgfHwge307CnNjb3BlLmdvb2dsZS5jb2xhYi5fZmlsZXMgPSB7CiAgX3VwbG9hZEZpbGVzLAogIF91cGxvYWRGaWxlc0NvbnRpbnVlLAp9Owp9KShzZWxmKTsK",
       "headers": [
        [
         "content-type",
         "application/javascript"
        ]
       ],
       "ok": true,
       "status": 200,
       "status_text": ""
      }
     }
    },
    "id": "bNgKNdfE32QZ",
    "outputId": "0e8c9ef5-04ee-43f8-d812-e99c8f13636c"
   },
   "outputs": [
    {
     "data": {
      "text/html": [
       "\n",
       "     <input type=\"file\" id=\"files-62560da2-e668-4c3f-a29b-dfec7442de83\" name=\"files[]\" multiple disabled\n",
       "        style=\"border:none\" />\n",
       "     <output id=\"result-62560da2-e668-4c3f-a29b-dfec7442de83\">\n",
       "      Upload widget is only available when the cell has been executed in the\n",
       "      current browser session. Please rerun this cell to enable.\n",
       "      </output>\n",
       "      <script src=\"/nbextensions/google.colab/files.js\"></script> "
      ],
      "text/plain": [
       "<IPython.core.display.HTML object>"
      ]
     },
     "metadata": {},
     "output_type": "display_data"
    },
    {
     "name": "stdout",
     "output_type": "stream",
     "text": [
      "Saving train_labels.csv to train_labels (2).csv\n"
     ]
    }
   ],
   "source": [
    "#upload train_labels.csv\n",
    "files.upload()\n",
    "\n",
    "labels = np.genfromtxt('train_labels.csv', delimiter=',')\n",
    "labels = np.concatenate((labels[1:191,1],labels[192:,1]),axis=None) #Remove study 00123\n"
   ]
  },
  {
   "cell_type": "code",
   "execution_count": null,
   "metadata": {
    "id": "HZQ0O9bV_pgW"
   },
   "outputs": [],
   "source": [
    "path_to_best_img = '/content/working/rsna-miccai-tumour-mask/train'\n",
    "list_of_studies = os.listdir(path_to_best_img)\n",
    "k = len(list_of_studies)\n",
    "x = np.zeros((k,512,512))\n",
    "for i in range(k):\n",
    "    study = list_of_studies[i]\n",
    "    best_img = os.listdir(os.path.join(path_to_best_img, study))\n",
    "    im = Image.open(os.path.join(path_to_best_img, study, best_img[0]))\n",
    "    x[i] = np.asarray(im)"
   ]
  },
  {
   "cell_type": "code",
   "execution_count": null,
   "metadata": {
    "id": "8O9U_q1Lmh_b"
   },
   "outputs": [],
   "source": [
    "import random\n",
    "#80% used for training\n",
    "z = random.sample(range(584),468)\n",
    "#20% used for validation\n",
    "z2 = [item for item in range(584) if item not in z]"
   ]
  },
  {
   "cell_type": "code",
   "execution_count": null,
   "metadata": {
    "id": "f_0Dw9Zpmq_E"
   },
   "outputs": [],
   "source": [
    "y_train = labels[z]\n",
    "y_val = labels[z2]\n",
    "\n",
    "x_train = x[z,:,:]\n",
    "x_val = x[z2,:,:]"
   ]
  },
  {
   "cell_type": "code",
   "execution_count": null,
   "metadata": {
    "colab": {
     "base_uri": "https://localhost:8080/"
    },
    "id": "xtMVYuvUovDy",
    "outputId": "9b2ffb96-bbd5-40b2-fd5e-4ff8b254205a"
   },
   "outputs": [
    {
     "name": "stdout",
     "output_type": "stream",
     "text": [
      "(468,)\n",
      "(116,)\n",
      "(468, 512, 512)\n",
      "(116, 512, 512)\n"
     ]
    }
   ],
   "source": [
    "print(y_train.shape)\n",
    "print(y_val.shape)\n",
    "print(x_train.shape)\n",
    "print(x_val.shape)"
   ]
  },
  {
   "cell_type": "code",
   "execution_count": null,
   "metadata": {
    "colab": {
     "base_uri": "https://localhost:8080/"
    },
    "id": "jk62zDIughig",
    "outputId": "e6d4037e-6a31-455a-ae80-f18b194bbbe3"
   },
   "outputs": [
    {
     "name": "stdout",
     "output_type": "stream",
     "text": [
      "Epoch 1/100\n",
      "30/30 [==============================] - 5s 128ms/step - loss: 0.4577 - accuracy: 0.9231\n",
      "Epoch 2/100\n",
      "30/30 [==============================] - 4s 125ms/step - loss: 0.1140 - accuracy: 0.9701\n",
      "Epoch 3/100\n",
      "30/30 [==============================] - 4s 124ms/step - loss: 0.0472 - accuracy: 0.9765\n",
      "Epoch 4/100\n",
      "30/30 [==============================] - 4s 126ms/step - loss: 0.0206 - accuracy: 0.9893\n",
      "Epoch 5/100\n",
      "30/30 [==============================] - 4s 126ms/step - loss: 0.0167 - accuracy: 0.9893\n",
      "Epoch 6/100\n",
      "30/30 [==============================] - 4s 125ms/step - loss: 0.0158 - accuracy: 0.9893\n",
      "Epoch 7/100\n",
      "30/30 [==============================] - 4s 126ms/step - loss: 0.0155 - accuracy: 0.9893\n",
      "Epoch 8/100\n",
      "30/30 [==============================] - 4s 126ms/step - loss: 0.0153 - accuracy: 0.9893\n",
      "Epoch 9/100\n",
      "30/30 [==============================] - 4s 125ms/step - loss: 0.0152 - accuracy: 0.9893\n",
      "Epoch 10/100\n",
      "30/30 [==============================] - 4s 124ms/step - loss: 0.0151 - accuracy: 0.9893\n",
      "Epoch 11/100\n",
      "30/30 [==============================] - 4s 125ms/step - loss: 0.0151 - accuracy: 0.9893\n",
      "Epoch 12/100\n",
      "30/30 [==============================] - 4s 126ms/step - loss: 0.0150 - accuracy: 0.9893\n",
      "Epoch 13/100\n",
      "30/30 [==============================] - 4s 126ms/step - loss: 0.0149 - accuracy: 0.9893\n",
      "Epoch 14/100\n",
      "30/30 [==============================] - 4s 125ms/step - loss: 0.0149 - accuracy: 0.9893\n",
      "Epoch 15/100\n",
      "30/30 [==============================] - 4s 125ms/step - loss: 0.0149 - accuracy: 0.9893\n",
      "Epoch 16/100\n",
      "30/30 [==============================] - 4s 125ms/step - loss: 0.0149 - accuracy: 0.9893\n",
      "Epoch 17/100\n",
      "30/30 [==============================] - 4s 128ms/step - loss: 0.0149 - accuracy: 0.9893\n",
      "Epoch 18/100\n",
      "30/30 [==============================] - 4s 124ms/step - loss: 0.0149 - accuracy: 0.9893\n",
      "Epoch 19/100\n",
      "30/30 [==============================] - 4s 125ms/step - loss: 0.0149 - accuracy: 0.9893\n",
      "Epoch 20/100\n",
      "30/30 [==============================] - 4s 126ms/step - loss: 0.0149 - accuracy: 0.9893\n",
      "Epoch 21/100\n",
      "30/30 [==============================] - 4s 127ms/step - loss: 0.0149 - accuracy: 0.9893\n",
      "Epoch 22/100\n",
      "30/30 [==============================] - 4s 125ms/step - loss: 0.0149 - accuracy: 0.9893\n",
      "Epoch 23/100\n",
      "30/30 [==============================] - 4s 126ms/step - loss: 0.0149 - accuracy: 0.9893\n",
      "Epoch 24/100\n",
      "30/30 [==============================] - 4s 126ms/step - loss: 0.0149 - accuracy: 0.9893\n",
      "Epoch 25/100\n",
      "30/30 [==============================] - 4s 126ms/step - loss: 0.0149 - accuracy: 0.9893\n",
      "Epoch 26/100\n",
      "30/30 [==============================] - 4s 125ms/step - loss: 0.0149 - accuracy: 0.9893\n",
      "Epoch 27/100\n",
      "30/30 [==============================] - 4s 124ms/step - loss: 0.0149 - accuracy: 0.9893\n",
      "Epoch 28/100\n",
      "30/30 [==============================] - 4s 125ms/step - loss: 0.0149 - accuracy: 0.9893\n",
      "Epoch 29/100\n",
      "30/30 [==============================] - 4s 126ms/step - loss: 0.0148 - accuracy: 0.9893\n",
      "Epoch 30/100\n",
      "30/30 [==============================] - 4s 125ms/step - loss: 0.0149 - accuracy: 0.9893\n",
      "Epoch 31/100\n",
      "30/30 [==============================] - 4s 125ms/step - loss: 0.0148 - accuracy: 0.9893\n",
      "Epoch 32/100\n",
      "30/30 [==============================] - 4s 125ms/step - loss: 0.0149 - accuracy: 0.9893\n",
      "Epoch 33/100\n",
      "30/30 [==============================] - 4s 126ms/step - loss: 0.0148 - accuracy: 0.9893\n",
      "Epoch 34/100\n",
      "30/30 [==============================] - 4s 124ms/step - loss: 0.0149 - accuracy: 0.9893\n",
      "Epoch 35/100\n",
      "30/30 [==============================] - 4s 126ms/step - loss: 0.0148 - accuracy: 0.9893\n",
      "Epoch 36/100\n",
      "30/30 [==============================] - 4s 125ms/step - loss: 0.0148 - accuracy: 0.9893\n",
      "Epoch 37/100\n",
      "30/30 [==============================] - 4s 126ms/step - loss: 0.0148 - accuracy: 0.9893\n",
      "Epoch 38/100\n",
      "30/30 [==============================] - 4s 125ms/step - loss: 0.0148 - accuracy: 0.9893\n",
      "Epoch 39/100\n",
      "30/30 [==============================] - 4s 126ms/step - loss: 0.0148 - accuracy: 0.9893\n",
      "Epoch 40/100\n",
      "30/30 [==============================] - 4s 126ms/step - loss: 0.0148 - accuracy: 0.9893\n",
      "Epoch 41/100\n",
      "30/30 [==============================] - 4s 126ms/step - loss: 0.0148 - accuracy: 0.9893\n",
      "Epoch 42/100\n",
      "30/30 [==============================] - 4s 125ms/step - loss: 0.0542 - accuracy: 0.9893\n",
      "Epoch 43/100\n",
      "30/30 [==============================] - 4s 125ms/step - loss: 0.1895 - accuracy: 0.9124\n",
      "Epoch 44/100\n",
      "30/30 [==============================] - 4s 127ms/step - loss: 0.1639 - accuracy: 0.9359\n",
      "Epoch 45/100\n",
      "30/30 [==============================] - 4s 127ms/step - loss: 0.0879 - accuracy: 0.9573\n",
      "Epoch 46/100\n",
      "30/30 [==============================] - 4s 125ms/step - loss: 0.0456 - accuracy: 0.9808\n",
      "Epoch 47/100\n",
      "30/30 [==============================] - 4s 126ms/step - loss: 0.0262 - accuracy: 0.9872\n",
      "Epoch 48/100\n",
      "30/30 [==============================] - 4s 126ms/step - loss: 0.0164 - accuracy: 0.9893\n",
      "Epoch 49/100\n",
      "30/30 [==============================] - 4s 127ms/step - loss: 0.0152 - accuracy: 0.9893\n",
      "Epoch 50/100\n",
      "30/30 [==============================] - 4s 126ms/step - loss: 0.0160 - accuracy: 0.9893\n",
      "Epoch 51/100\n",
      "30/30 [==============================] - 4s 125ms/step - loss: 0.0149 - accuracy: 0.9893\n",
      "Epoch 52/100\n",
      "30/30 [==============================] - 4s 125ms/step - loss: 0.0149 - accuracy: 0.9893\n",
      "Epoch 53/100\n",
      "30/30 [==============================] - 4s 126ms/step - loss: 0.0149 - accuracy: 0.9893\n",
      "Epoch 54/100\n",
      "30/30 [==============================] - 4s 126ms/step - loss: 0.0149 - accuracy: 0.9893\n",
      "Epoch 55/100\n",
      "30/30 [==============================] - 4s 126ms/step - loss: 0.0149 - accuracy: 0.9893\n",
      "Epoch 56/100\n",
      "30/30 [==============================] - 4s 127ms/step - loss: 0.0149 - accuracy: 0.9893\n",
      "Epoch 57/100\n",
      "30/30 [==============================] - 4s 126ms/step - loss: 0.0149 - accuracy: 0.9893\n",
      "Epoch 58/100\n",
      "30/30 [==============================] - 4s 125ms/step - loss: 0.0149 - accuracy: 0.9893\n",
      "Epoch 59/100\n",
      "30/30 [==============================] - 4s 127ms/step - loss: 0.0149 - accuracy: 0.9893\n",
      "Epoch 60/100\n",
      "30/30 [==============================] - 4s 128ms/step - loss: 0.0149 - accuracy: 0.9893\n",
      "Epoch 61/100\n",
      "30/30 [==============================] - 4s 126ms/step - loss: 0.0149 - accuracy: 0.9893\n",
      "Epoch 62/100\n",
      "30/30 [==============================] - 4s 127ms/step - loss: 0.0148 - accuracy: 0.9893\n",
      "Epoch 63/100\n",
      "30/30 [==============================] - 4s 127ms/step - loss: 0.0148 - accuracy: 0.9893\n",
      "Epoch 64/100\n",
      "30/30 [==============================] - 4s 128ms/step - loss: 0.0149 - accuracy: 0.9893\n",
      "Epoch 65/100\n",
      "30/30 [==============================] - 4s 128ms/step - loss: 0.0149 - accuracy: 0.9893\n",
      "Epoch 66/100\n",
      "30/30 [==============================] - 4s 128ms/step - loss: 0.0149 - accuracy: 0.9893\n",
      "Epoch 67/100\n",
      "30/30 [==============================] - 4s 127ms/step - loss: 0.0149 - accuracy: 0.9893\n",
      "Epoch 68/100\n",
      "30/30 [==============================] - 4s 128ms/step - loss: 0.0149 - accuracy: 0.9893\n",
      "Epoch 69/100\n",
      "30/30 [==============================] - 4s 129ms/step - loss: 0.0148 - accuracy: 0.9893\n",
      "Epoch 70/100\n",
      "30/30 [==============================] - 4s 128ms/step - loss: 0.0149 - accuracy: 0.9893\n",
      "Epoch 71/100\n",
      "30/30 [==============================] - 4s 128ms/step - loss: 0.0148 - accuracy: 0.9893\n",
      "Epoch 72/100\n",
      "30/30 [==============================] - 4s 128ms/step - loss: 0.0149 - accuracy: 0.9893\n",
      "Epoch 73/100\n",
      "30/30 [==============================] - 4s 128ms/step - loss: 0.0149 - accuracy: 0.9893\n",
      "Epoch 74/100\n",
      "30/30 [==============================] - 4s 127ms/step - loss: 0.0148 - accuracy: 0.9893\n",
      "Epoch 75/100\n",
      "30/30 [==============================] - 4s 129ms/step - loss: 0.0148 - accuracy: 0.9893\n",
      "Epoch 76/100\n",
      "30/30 [==============================] - 4s 128ms/step - loss: 0.0148 - accuracy: 0.9893\n",
      "Epoch 77/100\n",
      "30/30 [==============================] - 4s 128ms/step - loss: 0.0148 - accuracy: 0.9893\n",
      "Epoch 78/100\n",
      "30/30 [==============================] - 4s 128ms/step - loss: 0.0148 - accuracy: 0.9893\n",
      "Epoch 79/100\n",
      "30/30 [==============================] - 4s 128ms/step - loss: 0.0148 - accuracy: 0.9893\n",
      "Epoch 80/100\n",
      "30/30 [==============================] - 4s 128ms/step - loss: 0.0149 - accuracy: 0.9893\n",
      "Epoch 81/100\n",
      "30/30 [==============================] - 4s 128ms/step - loss: 0.0148 - accuracy: 0.9893\n",
      "Epoch 82/100\n",
      "30/30 [==============================] - 4s 127ms/step - loss: 0.0148 - accuracy: 0.9893\n",
      "Epoch 83/100\n",
      "30/30 [==============================] - 4s 127ms/step - loss: 0.0149 - accuracy: 0.9893\n",
      "Epoch 84/100\n",
      "30/30 [==============================] - 4s 129ms/step - loss: 0.0148 - accuracy: 0.9893\n",
      "Epoch 85/100\n",
      "30/30 [==============================] - 4s 129ms/step - loss: 0.0148 - accuracy: 0.9893\n",
      "Epoch 86/100\n",
      "30/30 [==============================] - 4s 128ms/step - loss: 0.0148 - accuracy: 0.9893\n",
      "Epoch 87/100\n",
      "30/30 [==============================] - 4s 128ms/step - loss: 0.0148 - accuracy: 0.9893\n",
      "Epoch 88/100\n",
      "30/30 [==============================] - 4s 128ms/step - loss: 0.0149 - accuracy: 0.9893\n",
      "Epoch 89/100\n",
      "30/30 [==============================] - 4s 129ms/step - loss: 0.0148 - accuracy: 0.9893\n",
      "Epoch 90/100\n",
      "30/30 [==============================] - 4s 127ms/step - loss: 0.0149 - accuracy: 0.9893\n",
      "Epoch 91/100\n",
      "30/30 [==============================] - 4s 128ms/step - loss: 0.0148 - accuracy: 0.9893\n",
      "Epoch 92/100\n",
      "30/30 [==============================] - 4s 128ms/step - loss: 0.0148 - accuracy: 0.9893\n",
      "Epoch 93/100\n",
      "30/30 [==============================] - 4s 128ms/step - loss: 0.0149 - accuracy: 0.9893\n",
      "Epoch 94/100\n",
      "30/30 [==============================] - 4s 127ms/step - loss: 0.0148 - accuracy: 0.9893\n",
      "Epoch 95/100\n",
      "30/30 [==============================] - 4s 128ms/step - loss: 0.0148 - accuracy: 0.9893\n",
      "Epoch 96/100\n",
      "30/30 [==============================] - 4s 128ms/step - loss: 0.0149 - accuracy: 0.9893\n",
      "Epoch 97/100\n",
      "30/30 [==============================] - 4s 128ms/step - loss: 0.0148 - accuracy: 0.9893\n",
      "Epoch 98/100\n",
      "30/30 [==============================] - 4s 127ms/step - loss: 0.0148 - accuracy: 0.9893\n",
      "Epoch 99/100\n",
      "30/30 [==============================] - 4s 127ms/step - loss: 0.0149 - accuracy: 0.9829\n",
      "Epoch 100/100\n",
      "30/30 [==============================] - 4s 128ms/step - loss: 0.0148 - accuracy: 0.9893\n"
     ]
    }
   ],
   "source": [
    "model.compile(loss='binary_crossentropy', optimizer='adam', metrics=['accuracy'])\n",
    "\n",
    "history = model.fit(x_train,\n",
    "                    y_train,\n",
    "                    batch_size=16,\n",
    "                    epochs=100)"
   ]
  },
  {
   "cell_type": "code",
   "execution_count": null,
   "metadata": {
    "colab": {
     "base_uri": "https://localhost:8080/"
    },
    "id": "2GcmgCdOiJHD",
    "outputId": "3374e7b1-a7d0-4992-e594-9753e622b5ba"
   },
   "outputs": [
    {
     "name": "stdout",
     "output_type": "stream",
     "text": [
      "0.5124851367419738\n"
     ]
    }
   ],
   "source": [
    "#calculate accuracy of model\n",
    "val_pred = model.predict(x_val)\n",
    "accuracy = np.mean(y_val == (val_pred>0.5))\n",
    "print(accuracy)"
   ]
  }
 ],
 "metadata": {
  "accelerator": "GPU",
  "colab": {
   "collapsed_sections": [],
   "name": "Notebook.ipynb",
   "provenance": []
  },
  "kernelspec": {
   "display_name": "Python 3",
   "language": "python",
   "name": "python3"
  },
  "language_info": {
   "codemirror_mode": {
    "name": "ipython",
    "version": 3
   },
   "file_extension": ".py",
   "mimetype": "text/x-python",
   "name": "python",
   "nbconvert_exporter": "python",
   "pygments_lexer": "ipython3",
   "version": "3.8.5"
  }
 },
 "nbformat": 4,
 "nbformat_minor": 1
}
